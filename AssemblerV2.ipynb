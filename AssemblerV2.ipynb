{
 "cells": [
  {
   "cell_type": "code",
   "execution_count": 1,
   "metadata": {},
   "outputs": [],
   "source": [
    "from datetime import datetime"
   ]
  },
  {
   "cell_type": "code",
   "execution_count": 2,
   "metadata": {},
   "outputs": [],
   "source": [
    "#Functions for extracting, logging, and loading\n",
    "def extract(file_name):\n",
    "    data = []\n",
    "    with open(file_name, 'r') as f:\n",
    "        data = f.readlines()\n",
    "    return data\n",
    "def log(message):\n",
    "    date_format = '%Y-%h-%d-%H:%M:%S'\n",
    "    now = datetime.now()\n",
    "    timestamp = now.strftime(date_format)\n",
    "    with open('log.txt', 'a') as f:\n",
    "        f.write(message + ': ' + timestamp + '\\n')\n",
    "def load(content, filename):\n",
    "    with open(filename, 'w') as f:\n",
    "        for c in content:\n",
    "            f.write(c + '\\n')"
   ]
  },
  {
   "cell_type": "code",
   "execution_count": 3,
   "metadata": {
    "pycharm": {
     "name": "#%%\n"
    }
   },
   "outputs": [],
   "source": [
    "#Functions for translating assembly code\n",
    "jmp_dict = {'':'000', 'JGT':'001', 'JEQ':'010', 'JGE':'011', 'JLT':'100', 'JNE':'101', 'JLE':'110', 'JMP':'111'}\n",
    "comp_dict = {'0':'0101010', '1':'0111111', '-1':'0111010', 'D':'0001100', 'A':'0110000', 'M':'1110000',\n",
    "              '!D':'0001101', '!A':'0110001', '!M':'1110001', '-D':'0001111', '-A':'0110011', '-M':'1110011',\n",
    "              'D+1':'0011111', 'A+1':'0110111', 'M+1':'1110111', 'D-1':'0001110', 'A-1':'0110010', 'M-1':'1110010',\n",
    "              'D+A':'0000010', 'D+M':'1000010', 'D-A':'0010011', 'D-M':'1010011', 'A-D':'0000111', 'M-D':'1000111',\n",
    "              'D&A':'0000000', 'D&M':'1000000', 'D|A':'0010101', 'D|M':'1010101'}\n",
    "\n",
    "def a_instruction(asm_code):\n",
    "    return '0' + '{0:015b}'.format(int(asm_code[1:]))\n",
    "\n",
    "def d_instruction(asm_code):\n",
    "    def jmp(jmp_asm):\n",
    "        return jmp_dict[jmp_asm]\n",
    "    \n",
    "    def dest(dest_asm):\n",
    "        def dest_helper(find_result):\n",
    "            if find_result != -1:\n",
    "                return '1'\n",
    "            else:\n",
    "                return '0'\n",
    "        \n",
    "        mach_code = ''\n",
    "        mach_code += dest_helper(dest_asm.find('A'))\n",
    "        mach_code += dest_helper(dest_asm.find('D'))\n",
    "        mach_code += dest_helper(dest_asm.find('M'))\n",
    "        return mach_code\n",
    "    def comp(comp_asm):\n",
    "        return comp_dict[comp_asm]\n",
    "    \n",
    "    \n",
    "    line = asm_code\n",
    "    dest_mach = ''\n",
    "    comp_mach = ''\n",
    "    jmp_mach = ''\n",
    "\n",
    "    eq_ind = line.find('=')\n",
    "    jmp_ind = line.find(';')\n",
    "    if eq_ind != -1:\n",
    "        dest_mach = dest(line[0:eq_ind])\n",
    "    else:\n",
    "        dest_mach = '000'\n",
    "        \n",
    "    if jmp_ind != -1:\n",
    "        jmp_mach = jmp(line[jmp_ind+1:])\n",
    "    else:\n",
    "        jmp_mach = '000'\n",
    "            \n",
    "    if eq_ind != -1 and jmp_ind != -1:\n",
    "        comp_mach = comp(line[eq_ind+1:jmp_ind])\n",
    "    elif eq_ind != -1:\n",
    "        comp_mach = comp(line[eq_ind+1:])\n",
    "    elif jmp_ind != -1:\n",
    "        comp_mach = comp(line[:jmp_ind])\n",
    "            \n",
    "    mach_code = comp_mach+dest_mach+jmp_mach         \n",
    "    return mach_code\n",
    "\n",
    "\n",
    "\n",
    "def label_pass(asm_code):\n",
    "    def new_label(label, rom_add):\n",
    "        symbol_dict[label] = str(rom_add)\n",
    "        return None\n",
    "    \n",
    "    label_counter = 0\n",
    "    out = []\n",
    "    for i in range(len(asm_code)):\n",
    "        line = asm_code[i]\n",
    "        label_ind = line.find('(')\n",
    "        if label_ind != -1:\n",
    "            close_ind = line.find(')')\n",
    "            new_label(line[label_ind+1:close_ind], i-label_counter)\n",
    "            label_counter += 1\n",
    "        else:\n",
    "             out.append(asm_code[i])\n",
    "    return out       \n",
    "    \n",
    "def var_pass(asm_code):\n",
    "    def replace_var(line):\n",
    "        return symbol_dict[line]\n",
    "    def new_var(line):\n",
    "        global next_mem\n",
    "        symbol_dict[line] = str(next_mem)\n",
    "        next_mem += 1\n",
    "    def var_scan(line):\n",
    "        if line in symbol_dict:\n",
    "            return replace_var(line)\n",
    "        else:\n",
    "            new_var(line)\n",
    "            return replace_var(line)\n",
    "        \n",
    "    out = []\n",
    "    for line in asm_code:\n",
    "        line_c = ''\n",
    "        a_ind = line.find('@')\n",
    "        if a_ind != -1 and line[a_ind+1].isalpha():\n",
    "            line_c += line[a_ind]\n",
    "            line_c += var_scan(line[a_ind+1:])\n",
    "        else:\n",
    "            line_c = line\n",
    "        out.append(line_c)\n",
    "    return out\n",
    "    \n",
    "            \n",
    "        \n",
    "def symbol_converter(asm_code):\n",
    "    global symbol_dict\n",
    "    global next_mem\n",
    "    symbol_dict = {'R0':'0', 'R1':'1', 'R2':'2', 'R3':'3', 'R4':'4', 'R5':'5', 'R6':'6', 'R7':'7', 'R8':'8', 'R9':'9', \n",
    "                  'R10':'10', 'R11':'11', 'R12':'12', 'R13':'13', 'R14':'14', 'R15':'15', 'SCREEN':'16384', 'KBD':'24576',\n",
    "                  'SP':'0', 'LCL':'1', 'ARG':'2', 'THIS':'3', 'THAT': '4'}\n",
    "    next_mem = 16\n",
    "    asm_code_fp = label_pass(asm_code)\n",
    "    asm_code_sp = var_pass(asm_code_fp)\n",
    "\n",
    "    return asm_code_sp\n",
    "        \n",
    "    \n",
    "def asm_janitor(asm_code):\n",
    "    out = []\n",
    "    for line in asm_code:\n",
    "        remove_ind = 0\n",
    "        cleaned_line = ''.join(line.split())\n",
    "        remove_ind = cleaned_line.find('//')\n",
    "        if remove_ind != -1:\n",
    "            cleaned_line = cleaned_line[0:remove_ind]\n",
    "        if cleaned_line:\n",
    "            out.append(cleaned_line)\n",
    "    return out  \n",
    "\n",
    "def asm_translator(asm_code):\n",
    "    out = []\n",
    "    asm_code_clean = asm_janitor(asm_code)\n",
    "    asm_code_L = symbol_converter(asm_code_clean)\n",
    "    for line in asm_code_L:\n",
    "        hack_code = ''\n",
    "        if line[0] == '@':\n",
    "            hack_code += a_instruction(line)\n",
    "        else:\n",
    "            hack_code += '111'\n",
    "            hack_code += d_instruction(line)\n",
    " \n",
    "        if hack_code:\n",
    "            out.append(hack_code)\n",
    "    return out"
   ]
  },
  {
   "cell_type": "code",
   "execution_count": 4,
   "metadata": {
    "pycharm": {
     "name": "#%%\n"
    }
   },
   "outputs": [],
   "source": [
    "#Change extension from .asm to .hack\n",
    "def extension_change(asm_file):\n",
    "    ext_ind = asm_file.find('.')\n",
    "    return asm_file[:ext_ind] + '.hack'\n",
    "#Main function\n",
    "def ETL(asm_file):\n",
    "    hack_file = extension_change(asm_file)\n",
    "    log('Extract ' + asm_file + ' start')\n",
    "    asm_code = extract(asm_file)\n",
    "    log('Extract ' + asm_file + ' end')\n",
    "\n",
    "    log('Translate ' + asm_file + ' start')\n",
    "    hack_code = asm_translator(asm_code)\n",
    "    log('Translate ' + asm_file + ' end')\n",
    "\n",
    "    log('Load ' + hack_file + ' start')\n",
    "    load(hack_code, hack_file)\n",
    "    log('Load ' + hack_file + ' end')\n",
    "    "
   ]
  },
  {
   "cell_type": "code",
   "execution_count": 5,
   "metadata": {
    "pycharm": {
     "name": "#%%\n"
    }
   },
   "outputs": [],
   "source": [
    "ETL('add.asm')"
   ]
  },
  {
   "cell_type": "code",
   "execution_count": 6,
   "metadata": {
    "pycharm": {
     "name": "#%%\n"
    }
   },
   "outputs": [],
   "source": [
    "ETL('MaxL.asm')"
   ]
  },
  {
   "cell_type": "code",
   "execution_count": 7,
   "metadata": {},
   "outputs": [],
   "source": [
    "ETL('PongL.asm')"
   ]
  },
  {
   "cell_type": "code",
   "execution_count": 8,
   "metadata": {},
   "outputs": [],
   "source": [
    "ETL('RectL.asm')"
   ]
  },
  {
   "cell_type": "code",
   "execution_count": 9,
   "metadata": {},
   "outputs": [],
   "source": [
    "ETL('Rect.asm')"
   ]
  },
  {
   "cell_type": "code",
   "execution_count": 10,
   "metadata": {},
   "outputs": [],
   "source": [
    "ETL('Pong.asm')"
   ]
  },
  {
   "cell_type": "code",
   "execution_count": 11,
   "metadata": {},
   "outputs": [],
   "source": [
    "ETL('Max.asm')"
   ]
  },
  {
   "cell_type": "code",
   "execution_count": null,
   "metadata": {},
   "outputs": [],
   "source": []
  },
  {
   "cell_type": "code",
   "execution_count": null,
   "metadata": {},
   "outputs": [],
   "source": []
  }
 ],
 "metadata": {
  "kernelspec": {
   "display_name": "Python 3",
   "language": "python",
   "name": "python3"
  },
  "language_info": {
   "codemirror_mode": {
    "name": "ipython",
    "version": 3
   },
   "file_extension": ".py",
   "mimetype": "text/x-python",
   "name": "python",
   "nbconvert_exporter": "python",
   "pygments_lexer": "ipython3",
   "version": "3.7.7"
  }
 },
 "nbformat": 4,
 "nbformat_minor": 1
}